{
 "cells": [
  {
   "cell_type": "markdown",
   "id": "2dfc7f4e",
   "metadata": {},
   "source": [
    "# Write a Python program to calculate the length of a string."
   ]
  },
  {
   "cell_type": "code",
   "execution_count": 7,
   "id": "f5914845",
   "metadata": {},
   "outputs": [
    {
     "name": "stdout",
     "output_type": "stream",
     "text": [
      "Enter the string: madhur chauhan\n",
      "Length of string is:  14\n"
     ]
    }
   ],
   "source": [
    "str = input(\"Enter the string: \")\n",
    "count = 0\n",
    "for i in str:\n",
    "    count += 1\n",
    "print(\"Length of string is: \",count)    "
   ]
  },
  {
   "cell_type": "code",
   "execution_count": 8,
   "id": "e6c934f0",
   "metadata": {},
   "outputs": [
    {
     "name": "stdout",
     "output_type": "stream",
     "text": [
      "Enter the string: Madhur Chauhan\n",
      "Length of string is:  14\n"
     ]
    }
   ],
   "source": [
    "str = input(\"Enter the string: \")\n",
    "count = 0\n",
    "while str[count:]:\n",
    "    count += 1\n",
    "print(\"Length of string is: \",count)    "
   ]
  },
  {
   "cell_type": "markdown",
   "id": "6d236ea4",
   "metadata": {},
   "source": [
    "# Write a Python program which accepts the radius of a circle from\n",
    "# the user and compute the area."
   ]
  },
  {
   "cell_type": "code",
   "execution_count": 12,
   "id": "d797c75b",
   "metadata": {},
   "outputs": [
    {
     "name": "stdout",
     "output_type": "stream",
     "text": [
      "Enter the radius of circle: 7\n",
      "Area of circle:  154.0\n"
     ]
    }
   ],
   "source": [
    "r = int(input(\"Enter the radius of circle: \"))\n",
    "area = 22/7*r**2\n",
    "print(\"Area of circle: \",area)"
   ]
  },
  {
   "cell_type": "markdown",
   "id": "39b677ad",
   "metadata": {},
   "source": [
    "# Write a Python program which accepts the user's first and last \n",
    "# name and print them in reverse order with a space between them."
   ]
  },
  {
   "cell_type": "code",
   "execution_count": 13,
   "id": "d2a8b6ba",
   "metadata": {},
   "outputs": [
    {
     "name": "stdout",
     "output_type": "stream",
     "text": [
      "Enter first name: madhur\n",
      "Enter last name: chauhan\n",
      "chauhan madhur\n"
     ]
    }
   ],
   "source": [
    "fname = input(\"Enter first name: \")\n",
    "lname = input(\"Enter last name: \")\n",
    "rname = lname+\" \"+fname\n",
    "print(rname)"
   ]
  },
  {
   "cell_type": "code",
   "execution_count": 20,
   "id": "c5a5fd1d",
   "metadata": {},
   "outputs": [
    {
     "name": "stdout",
     "output_type": "stream",
     "text": [
      "Enter first name: madhur chauhan\n",
      "Enter last name: chauhan\n",
      "nahuahc nahuahc ruhdam\n"
     ]
    }
   ],
   "source": [
    "fname = input(\"Enter first name: \")\n",
    "lname = input(\"Enter last name: \")\n",
    "name = lname[::-1]+\" \"+fname[-1:-(len(fname)+1):-1]\n",
    "print(name)"
   ]
  },
  {
   "cell_type": "markdown",
   "id": "fbc34475",
   "metadata": {},
   "source": [
    "# Write a Python program to get the volume of a sphere with radius 6."
   ]
  },
  {
   "cell_type": "code",
   "execution_count": 22,
   "id": "a24fd78f",
   "metadata": {},
   "outputs": [
    {
     "name": "stdout",
     "output_type": "stream",
     "text": [
      "Enter the radius of sphere: 6\n",
      "905.1428571428572\n"
     ]
    }
   ],
   "source": [
    "r = int(input(\"Enter the radius of sphere: \"))\n",
    "volume = 4/3*22/7*r**3\n",
    "print(volume)"
   ]
  },
  {
   "cell_type": "markdown",
   "id": "d7be9531",
   "metadata": {},
   "source": [
    "# Write a Python program to get the difference between a given \n",
    "# number and 17, if the number is greater than 17 return the difference else print -1."
   ]
  },
  {
   "cell_type": "code",
   "execution_count": 27,
   "id": "c08d660a",
   "metadata": {},
   "outputs": [
    {
     "name": "stdout",
     "output_type": "stream",
     "text": [
      "Enter the number: 15\n",
      "-1\n"
     ]
    }
   ],
   "source": [
    "num = int(input(\"Enter the number: \"))\n",
    "if num > 17:\n",
    "    print(num-17)\n",
    "else:\n",
    "    print(-1)\n",
    "    "
   ]
  },
  {
   "cell_type": "markdown",
   "id": "399a3142",
   "metadata": {},
   "source": [
    "# Write a Python program to calculate the sum of three given numbers, \n",
    "# if the values are equal then return three times of their sum."
   ]
  },
  {
   "cell_type": "code",
   "execution_count": 30,
   "id": "d410aa75",
   "metadata": {},
   "outputs": [
    {
     "name": "stdout",
     "output_type": "stream",
     "text": [
      "Enter the first number: 12\n",
      "Enter the second number: 12\n",
      "Enter the third number: 11\n",
      "35\n"
     ]
    }
   ],
   "source": [
    "num1 = int(input(\"Enter the first number: \"))\n",
    "num2 = int(input(\"Enter the second number: \"))\n",
    "num3 = int(input(\"Enter the third number: \"))\n",
    "if num1==num2==num3:\n",
    "    sum = num1+num2+num3\n",
    "    print(sum,sum,sum)\n",
    "else:\n",
    "    print(num1+num2+num3)"
   ]
  },
  {
   "cell_type": "markdown",
   "id": "30f64df1",
   "metadata": {},
   "source": [
    "# Write a Python program to find whether a given number \n",
    "# (accept from the user) is even or odd, print out an appropriate\n",
    "# message to the user."
   ]
  },
  {
   "cell_type": "code",
   "execution_count": 35,
   "id": "4d72c07b",
   "metadata": {},
   "outputs": [
    {
     "name": "stdout",
     "output_type": "stream",
     "text": [
      "Enter the number: 2\n",
      "Number is Even\n"
     ]
    }
   ],
   "source": [
    "num = int(input(\"Enter the number: \"))\n",
    "if num%2 == 0:\n",
    "    print(\"Number is Even\")\n",
    "else:\n",
    "    print(\"Number is Odd\")"
   ]
  },
  {
   "cell_type": "markdown",
   "id": "5bb1c29e",
   "metadata": {},
   "source": [
    "# Write a Python program to test whether a passed \n",
    "# letter is a vowel or not."
   ]
  },
  {
   "cell_type": "code",
   "execution_count": 50,
   "id": "ef1bdda7",
   "metadata": {},
   "outputs": [
    {
     "name": "stdout",
     "output_type": "stream",
     "text": [
      "Enter any letter: i\n",
      "Letter is a vowel\n"
     ]
    }
   ],
   "source": [
    "letter = input(\"Enter any letter: \")\n",
    "l = ['a','e','i','o','u']\n",
    "for i in l:\n",
    "    if letter == i:\n",
    "        print(\"Letter is a vowel\")\n",
    "        break\n",
    "else:\n",
    "    print(\"Letter is not vowel\")"
   ]
  },
  {
   "cell_type": "markdown",
   "id": "12d176f0",
   "metadata": {},
   "source": [
    "# Write a Python program that will accept the base and height of a triangle \n",
    "# and compute the area."
   ]
  },
  {
   "cell_type": "code",
   "execution_count": 52,
   "id": "b83a0a26",
   "metadata": {},
   "outputs": [
    {
     "name": "stdout",
     "output_type": "stream",
     "text": [
      "Enter the length of base of triangle: 11\n",
      "Enter the height of triangle: 12\n",
      "Area of triangle:  132\n"
     ]
    }
   ],
   "source": [
    "base = int(input(\"Enter the length of base of triangle: \"))\n",
    "height = int(input(\"Enter the height of triangle: \"))\n",
    "area = base*height\n",
    "print(\"Area of triangle: \",area)"
   ]
  },
  {
   "cell_type": "markdown",
   "id": "12e5c93f",
   "metadata": {},
   "source": [
    "# Write a Python program to sum of three given integers. \n",
    "# However, if two values are equal sum will be zero."
   ]
  },
  {
   "cell_type": "code",
   "execution_count": 58,
   "id": "4d0558e4",
   "metadata": {},
   "outputs": [
    {
     "name": "stdout",
     "output_type": "stream",
     "text": [
      "Enter the first number: 11\n",
      "Enter the second number: 12\n",
      "Enter the third number: 12\n",
      "Sum = 0\n"
     ]
    }
   ],
   "source": [
    "num1 = int(input(\"Enter the first number: \"))\n",
    "num2 = int(input(\"Enter the second number: \"))\n",
    "num3 = int(input(\"Enter the third number: \"))\n",
    "if num1 == num2 or num1 == num3 or num2 == num3:\n",
    "    print(\"Sum = 0\")\n",
    "else:\n",
    "    print(\"Sum = \",num1+num2+num3)"
   ]
  },
  {
   "cell_type": "markdown",
   "id": "dfed4fb7",
   "metadata": {},
   "source": [
    "# Write a Python program to sum of two given integers. \n",
    "# However, if the sum is between 15 to 20 it will return 20."
   ]
  },
  {
   "cell_type": "code",
   "execution_count": 64,
   "id": "610bbb7f",
   "metadata": {},
   "outputs": [
    {
     "name": "stdout",
     "output_type": "stream",
     "text": [
      "Enter the first number: 12\n",
      "Enter the second number: 2\n",
      "14\n"
     ]
    }
   ],
   "source": [
    "num1 = int(input(\"Enter the first number: \"))\n",
    "num2 = int(input(\"Enter the second number: \"))\n",
    "sum = num1+num2\n",
    "if 15<sum<20:\n",
    "    print(20)\n",
    "else:\n",
    "    print(num1+num2)"
   ]
  },
  {
   "cell_type": "markdown",
   "id": "6539c223",
   "metadata": {},
   "source": [
    "# Write a Python program that will return true if the two given integer \n",
    "# values are equal or their sum or difference is 5."
   ]
  },
  {
   "cell_type": "code",
   "execution_count": null,
   "id": "ea2ab519",
   "metadata": {},
   "outputs": [],
   "source": [
    "num1 = int(input(\"Enter the first number: \"))\n",
    "num2 = int(input(\"Enter the second number: \"))\n",
    "diff = num1-num2\n",
    "sum = num1+num2\n",
    "if num1 == num2:\n",
    "    print(True)\n",
    "    print(f\"Sum = {sum} and Diff = 5\")\n",
    "else:\n",
    "    print(f\"Sum = {sum} and Diff = {diff}\")"
   ]
  },
  {
   "cell_type": "markdown",
   "id": "a9fc2f25",
   "metadata": {},
   "source": [
    "# Write a Python program to display your details like name, age, \n",
    "# address in three different lines. "
   ]
  },
  {
   "cell_type": "code",
   "execution_count": 13,
   "id": "dd3dc71c",
   "metadata": {},
   "outputs": [
    {
     "name": "stdout",
     "output_type": "stream",
     "text": [
      "Enter your name: Madhur Chauhan\n",
      "Enter your age: 20\n",
      "Enter your address: Bijnor,UP\n",
      "Madhur Chauhan\n",
      "20\n",
      "Bijnor,UP\n"
     ]
    }
   ],
   "source": [
    "name = input(\"Enter your name: \")\n",
    "age = int(input(\"Enter your age: \"))\n",
    "address = input(\"Enter your address: \")\n",
    "print(name,age,address,sep = '\\n')"
   ]
  },
  {
   "cell_type": "markdown",
   "id": "ea92abe5",
   "metadata": {},
   "source": [
    "# Write a Python program to solve (x + y) * (x + y)."
   ]
  },
  {
   "cell_type": "code",
   "execution_count": 3,
   "id": "d7a36cd8",
   "metadata": {},
   "outputs": [
    {
     "name": "stdout",
     "output_type": "stream",
     "text": [
      "(4 + 5)^2 = 81\n"
     ]
    }
   ],
   "source": [
    "x,y =4,5\n",
    "result = x*x+2*x*y+y*y\n",
    "print(\"({} + {})^2 = {}\".format(x,y,result))"
   ]
  },
  {
   "cell_type": "markdown",
   "id": "8a8ee23f",
   "metadata": {},
   "source": [
    "# Write a Python program to compute the future value of a specified principal amount, rate of interest, and a number of years.\n",
    "# Test Data : amt = 10000, int = 3.5, years = 7\n",
    "# Expected Output : 12722.79"
   ]
  },
  {
   "cell_type": "code",
   "execution_count": null,
   "id": "546ed5d3",
   "metadata": {},
   "outputs": [],
   "source": []
  },
  {
   "cell_type": "markdown",
   "id": "ca18a41c",
   "metadata": {},
   "source": [
    "# Write a Python program to find those numbers which are\n",
    "# divisible by 7 and multiple of 5, between 1500 and 2700 (both included)."
   ]
  },
  {
   "cell_type": "code",
   "execution_count": 6,
   "id": "73a2b717",
   "metadata": {},
   "outputs": [
    {
     "name": "stdout",
     "output_type": "stream",
     "text": [
      "1505\n",
      "1540\n",
      "1575\n",
      "1610\n",
      "1645\n",
      "1680\n",
      "1715\n",
      "1750\n",
      "1785\n",
      "1820\n",
      "1855\n",
      "1890\n",
      "1925\n",
      "1960\n",
      "1995\n",
      "2030\n",
      "2065\n",
      "2100\n",
      "2135\n",
      "2170\n",
      "2205\n",
      "2240\n",
      "2275\n",
      "2310\n",
      "2345\n",
      "2380\n",
      "2415\n",
      "2450\n",
      "2485\n",
      "2520\n",
      "2555\n",
      "2590\n",
      "2625\n",
      "2660\n",
      "2695\n"
     ]
    }
   ],
   "source": [
    "for i in range(1500,2700):\n",
    "    if i%7==0 and i%5 == 0:\n",
    "        print(i)"
   ]
  },
  {
   "cell_type": "markdown",
   "id": "972dd9d6",
   "metadata": {},
   "source": [
    "# Write a Python program to convert temperatures to and from celsius, fahrenheit.\n",
    "# [ Formula : c/5 = f-32/9 [ where c = temperature in celsius and f = temperature in fahrenheit ]\n",
    "# Expected Output :\n",
    "# 60°C is 140 in Fahrenheit\n",
    "# 45°F is 7 in Celsius"
   ]
  },
  {
   "cell_type": "code",
   "execution_count": 11,
   "id": "4d17341f",
   "metadata": {},
   "outputs": [
    {
     "name": "stdout",
     "output_type": "stream",
     "text": [
      "Enter the temperature in celsius: 60\n",
      "60 in Celsius in 140.0 in Fahrenheit\n",
      "Enter the temperature in fahrenheit: 45\n",
      "45 in Fahrenheit in 7.222222222222222 in Celsius\n"
     ]
    }
   ],
   "source": [
    "c = int(input(\"Enter the temperature in celsius: \"))\n",
    "f = c*1.8+32\n",
    "print(\"{} in Celsius in {} in Fahrenheit\".format(c,f))\n",
    "f = int(input(\"Enter the temperature in fahrenheit: \"))\n",
    "c = (f-32)*5/9\n",
    "print(\"{} in Fahrenheit in {} in Celsius\".format(f,c))"
   ]
  },
  {
   "cell_type": "markdown",
   "id": "5f7ff066",
   "metadata": {},
   "source": [
    "# Write a Python program to guess a number between 1 to 9.\n",
    "# Note : User is prompted to enter a guess. If the user guesses wrong then\n",
    "# the prompt appears again until the guess is correct, on successful guess,\n",
    "# user will get a \"Well guessed!\" message, and the program will exit."
   ]
  },
  {
   "cell_type": "code",
   "execution_count": 13,
   "id": "89bd799a",
   "metadata": {},
   "outputs": [
    {
     "name": "stdout",
     "output_type": "stream",
     "text": [
      "Enter the number: 7\n",
      "Wrong Guessed!\n",
      "Enter the number: 4\n",
      "Wrong Guessed!\n",
      "Enter the number: 4\n",
      "Wrong Guessed!\n",
      "Enter the number: 3\n",
      "Wrong Guessed!\n",
      "Enter the number: 2\n",
      "Wrong Guessed!\n",
      "Enter the number: 3\n",
      "Wrong Guessed!\n",
      "Enter the number: 2\n",
      "Wrong Guessed!\n",
      "Enter the number: 4\n",
      "Well guessed!\n"
     ]
    }
   ],
   "source": [
    "import random\n",
    "while True:\n",
    "    r = random.randint(0,9)\n",
    "    num = int(input(\"Enter the number: \"))\n",
    "    if r == num:\n",
    "        print(\"Well guessed!\")\n",
    "        break\n",
    "    else:\n",
    "        print(\"Wrong Guessed!\")\n",
    "        "
   ]
  },
  {
   "cell_type": "markdown",
   "id": "16dfbd33",
   "metadata": {},
   "source": [
    "# Write a Python program which iterates the integers from 1 to 50. For multiples of three print \"Fizz\" instead of the number and for the multiples of five print \"Buzz\". For numbers which are multiples of both three and five print \"FizzBuzz\".\n",
    "# Sample Output :\n",
    "# fizzbuzz\n",
    "# 1\n",
    "# 2\n",
    "# fizz\n",
    "# 4\n",
    "# buzz"
   ]
  },
  {
   "cell_type": "code",
   "execution_count": 23,
   "id": "59ac9931",
   "metadata": {},
   "outputs": [
    {
     "name": "stdout",
     "output_type": "stream",
     "text": [
      "Enter the number: 15\n",
      "FizzBuzz\n",
      "Enter the number: 1\n",
      "1\n",
      "Enter the number: 2\n",
      "2\n",
      "Enter the number: 3\n",
      "Fizz\n",
      "Enter the number: 4\n",
      "4\n",
      "Enter the number: 20\n",
      "Buzz\n"
     ]
    }
   ],
   "source": [
    "for i in range(6):\n",
    "    num = int(input(\"Enter the number: \"))\n",
    "    if num%3 == 0 and num%5 == 0:\n",
    "        print(\"FizzBuzz\")\n",
    "    elif num%5 == 0:\n",
    "        print(\"Buzz\")\n",
    "    elif num%3 == 0:\n",
    "        print(\"Fizz\")\n",
    "    else:\n",
    "        print(num)"
   ]
  },
  {
   "cell_type": "markdown",
   "id": "c1b815e6",
   "metadata": {},
   "source": [
    "# Write a Python program to calculate a dog's age in dog's years.\n",
    "# Note: For the first two years, a dog year is equal to 10.5 human years. After that, each dog year equals 4 human years.\n",
    "# Expected Output:\n",
    "# Input a dog's age in human years: 15                                    \n",
    "# The dog's age in dog's years is 73"
   ]
  },
  {
   "cell_type": "code",
   "execution_count": null,
   "id": "c187a42d",
   "metadata": {},
   "outputs": [],
   "source": []
  },
  {
   "cell_type": "markdown",
   "id": "f29b8d31",
   "metadata": {},
   "source": [
    "# Python program to interchange first and last elements in a list"
   ]
  },
  {
   "cell_type": "code",
   "execution_count": 27,
   "id": "666575c0",
   "metadata": {},
   "outputs": [
    {
     "name": "stdout",
     "output_type": "stream",
     "text": [
      "[5, 2, 3, 4, 1]\n"
     ]
    }
   ],
   "source": [
    "l = [1,2,3,4,5]\n",
    "lst = l.pop()\n",
    "l.insert(0,lst)\n",
    "start = l.pop(1)\n",
    "l.append(start)\n",
    "print(l)"
   ]
  },
  {
   "cell_type": "markdown",
   "id": "45e67db3",
   "metadata": {},
   "source": [
    "# Python – Sum of tuple elements"
   ]
  },
  {
   "cell_type": "code",
   "execution_count": 30,
   "id": "9875dd79",
   "metadata": {},
   "outputs": [
    {
     "name": "stdout",
     "output_type": "stream",
     "text": [
      "15\n"
     ]
    }
   ],
   "source": [
    "tuple = (1,2,3,4,5)\n",
    "sum = 0\n",
    "for i in tuple:\n",
    "    sum += i\n",
    "print(sum)    "
   ]
  },
  {
   "cell_type": "markdown",
   "id": "69946804",
   "metadata": {},
   "source": [
    "# Python program to find the sum of all items in a dictionary"
   ]
  },
  {
   "cell_type": "code",
   "execution_count": 35,
   "id": "12518245",
   "metadata": {},
   "outputs": [
    {
     "name": "stdout",
     "output_type": "stream",
     "text": [
      "15\n"
     ]
    }
   ],
   "source": [
    "dict = {'a':1,'b':2,'c':3,'d':4,'e':5}\n",
    "sum = 0\n",
    "for i in dict.values():\n",
    "    sum += i\n",
    "print(sum)    "
   ]
  },
  {
   "cell_type": "code",
   "execution_count": 56,
   "id": "3f5466f5",
   "metadata": {},
   "outputs": [
    {
     "name": "stdout",
     "output_type": "stream",
     "text": [
      "15\n"
     ]
    }
   ],
   "source": [
    "d = {'a':[1, 2, 3],'b':[4,5]} \n",
    "sum = 0\n",
    "for k, v in d.items(): \n",
    "   for i in v:\n",
    "    sum += i\n",
    "print(sum)"
   ]
  },
  {
   "cell_type": "markdown",
   "id": "d9fa0ed7",
   "metadata": {},
   "source": [
    "# Find the size of a Set in Python"
   ]
  },
  {
   "cell_type": "code",
   "execution_count": 61,
   "id": "ce9f3e76",
   "metadata": {},
   "outputs": [
    {
     "name": "stdout",
     "output_type": "stream",
     "text": [
      "Size of set is  7\n"
     ]
    }
   ],
   "source": [
    "s = {1,2,3,4,5,'Madhur',1.2}\n",
    "count = 0\n",
    "for i in s:\n",
    "    count += 1\n",
    "print(\"Size of set is \",count)    "
   ]
  },
  {
   "cell_type": "markdown",
   "id": "a2af3e70",
   "metadata": {},
   "source": [
    "# Python – Check if two lists have atleast one element common"
   ]
  },
  {
   "cell_type": "code",
   "execution_count": 8,
   "id": "f756099e",
   "metadata": {},
   "outputs": [
    {
     "name": "stdout",
     "output_type": "stream",
     "text": [
      "yes.. One element is common \n"
     ]
    }
   ],
   "source": [
    "l1 = [1,2,4,5]\n",
    "l2 = [3,6,5,7]\n",
    "for i in l1:\n",
    "    for j in l2:\n",
    "        if i==j:\n",
    "            print(\"yes.. One element is common \")"
   ]
  },
  {
   "cell_type": "code",
   "execution_count": null,
   "id": "a621d861",
   "metadata": {},
   "outputs": [],
   "source": []
  }
 ],
 "metadata": {
  "kernelspec": {
   "display_name": "Python 3 (ipykernel)",
   "language": "python",
   "name": "python3"
  },
  "language_info": {
   "codemirror_mode": {
    "name": "ipython",
    "version": 3
   },
   "file_extension": ".py",
   "mimetype": "text/x-python",
   "name": "python",
   "nbconvert_exporter": "python",
   "pygments_lexer": "ipython3",
   "version": "3.9.7"
  }
 },
 "nbformat": 4,
 "nbformat_minor": 5
}
