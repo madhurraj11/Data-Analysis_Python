{
 "cells": [
  {
   "cell_type": "markdown",
   "id": "3052e3a9",
   "metadata": {},
   "source": [
    "# Wap to add 2 numbers"
   ]
  },
  {
   "cell_type": "code",
   "execution_count": 1,
   "id": "1aa6a203",
   "metadata": {},
   "outputs": [
    {
     "name": "stdout",
     "output_type": "stream",
     "text": [
      "The Sum is 25\n"
     ]
    }
   ],
   "source": [
    "a = 10\n",
    "b = 15\n",
    "print(f\"The Sum is {a+b}\")"
   ]
  },
  {
   "cell_type": "markdown",
   "id": "ac6df6d1",
   "metadata": {},
   "source": [
    "# Wap to add 2 numbers with user inputs"
   ]
  },
  {
   "cell_type": "code",
   "execution_count": 2,
   "id": "8d81f5c4",
   "metadata": {},
   "outputs": [
    {
     "name": "stdout",
     "output_type": "stream",
     "text": [
      "Enter a 1st number: 213\n",
      "Enter a 2nd number: 14\n",
      "The Sum is 227\n"
     ]
    }
   ],
   "source": [
    "a = int(input(\"Enter a 1st number: \"))\n",
    "b = int(input(\"Enter a 2nd number: \"))\n",
    "print(f\"The Sum is {a+b}\")"
   ]
  },
  {
   "cell_type": "markdown",
   "id": "f68fca4d",
   "metadata": {},
   "source": [
    "# Wap to find reminder when a number is divide by 2 or 3"
   ]
  },
  {
   "cell_type": "code",
   "execution_count": 11,
   "id": "ff343ed5",
   "metadata": {},
   "outputs": [
    {
     "name": "stdout",
     "output_type": "stream",
     "text": [
      "Enter a number: 764\n",
      "The reminder is  0\n",
      "The reminder is  2\n"
     ]
    }
   ],
   "source": [
    "n = int(input(\"Enter a number: \"))\n",
    "b,c = 2,3\n",
    "rem1, rem2 = n%2, n%3\n",
    "print(\"The reminder is \",rem1)\n",
    "print(\"The reminder is \",rem2)"
   ]
  },
  {
   "cell_type": "markdown",
   "id": "63a6fee9",
   "metadata": {},
   "source": [
    "# Make a input function and check its type"
   ]
  },
  {
   "cell_type": "code",
   "execution_count": 24,
   "id": "bcd5448f",
   "metadata": {},
   "outputs": [
    {
     "name": "stdout",
     "output_type": "stream",
     "text": [
      "Enter Input: Madhur123\n",
      "AlphaNumeric\n"
     ]
    }
   ],
   "source": [
    "x = input(\"Enter Input: \")\n",
    "if x.isnumeric() == True:\n",
    "    print(\"Integer\")\n",
    "elif x.isalpha() == True:\n",
    "    print(\"String\")\n",
    "elif x.isalnum() == True:\n",
    "    print(\"AlphaNumeric\")\n",
    "else:\n",
    "    print(\"Special Characters\")"
   ]
  },
  {
   "cell_type": "markdown",
   "id": "08a1ce8f",
   "metadata": {},
   "source": [
    "# Make two variable a and b, also find which variable use comparison operator"
   ]
  },
  {
   "cell_type": "code",
   "execution_count": 26,
   "id": "b659eb2e",
   "metadata": {},
   "outputs": [
    {
     "name": "stdout",
     "output_type": "stream",
     "text": [
      "Enter the first number: 34\n",
      "Enter the second number: 33\n",
      "a is greater than b\n"
     ]
    }
   ],
   "source": [
    "a = int(input(\"Enter the first number: \"))\n",
    "b = int(input(\"Enter the second number: \"))\n",
    "if a>b:\n",
    "    print(\"a is greater than b\")\n",
    "elif a==b:\n",
    "    print(\"a is equal to b\")\n",
    "else:\n",
    "    print(\"b is greater than a\")"
   ]
  },
  {
   "cell_type": "markdown",
   "id": "bc37edd0",
   "metadata": {},
   "source": [
    "# Find average of two numbers"
   ]
  },
  {
   "cell_type": "code",
   "execution_count": 27,
   "id": "db489c2c",
   "metadata": {},
   "outputs": [
    {
     "name": "stdout",
     "output_type": "stream",
     "text": [
      "Enter the first number: 75\n",
      "Enter the second number: 675\n",
      "The average of two numbers: 375.0\n"
     ]
    }
   ],
   "source": [
    "n1 = int(input(\"Enter the first number: \"))\n",
    "n2 = int(input(\"Enter the second number: \"))\n",
    "avg = (n1+n2)/2\n",
    "print(f'The average of two numbers: {avg}')"
   ]
  },
  {
   "cell_type": "markdown",
   "id": "f13505a6",
   "metadata": {},
   "source": [
    "# Find Square of two numbers"
   ]
  },
  {
   "cell_type": "code",
   "execution_count": 1,
   "id": "a3a07e71",
   "metadata": {},
   "outputs": [
    {
     "name": "stdout",
     "output_type": "stream",
     "text": [
      "Enter a number: 5\n",
      "The Square of 5 is 25\n"
     ]
    }
   ],
   "source": [
    "n = int(input(\"Enter a number: \"))\n",
    "sq = n**2\n",
    "print(f\"The Square of {n} is {sq}\")"
   ]
  },
  {
   "cell_type": "markdown",
   "id": "9a7fc0b8",
   "metadata": {},
   "source": [
    "# Find Cube of a number"
   ]
  },
  {
   "cell_type": "code",
   "execution_count": 2,
   "id": "d9e5d33d",
   "metadata": {},
   "outputs": [
    {
     "name": "stdout",
     "output_type": "stream",
     "text": [
      "Enter a number: 3\n",
      "The Cube of 3 is 27\n"
     ]
    }
   ],
   "source": [
    "n = int(input(\"Enter a number: \"))\n",
    "cube = n**3\n",
    "print(f\"The Cube of {n} is {cube}\")"
   ]
  },
  {
   "cell_type": "markdown",
   "id": "4ebe3220",
   "metadata": {},
   "source": [
    "# Write a program to display user enter name using input function followed by \n",
    "#        \"Welcome to coding world\"\n",
    "# o/p---> Welcome to coding world Jeevan."
   ]
  },
  {
   "cell_type": "code",
   "execution_count": 3,
   "id": "c266b674",
   "metadata": {},
   "outputs": [
    {
     "name": "stdout",
     "output_type": "stream",
     "text": [
      "Enter Your name: Madhur Chauhan\n",
      "Welcome to coding world  Madhur Chauhan\n"
     ]
    }
   ],
   "source": [
    "name = input(\"Enter Your name: \")\n",
    "print(\"Welcome to coding world \",name)"
   ]
  },
  {
   "cell_type": "markdown",
   "id": "7a438a4f",
   "metadata": {},
   "source": [
    "# Make a letter template \"hello NAME , you are selected for this DATE\"\n",
    "# o/p---> hello ram , you are selected for 2 nov;"
   ]
  },
  {
   "cell_type": "code",
   "execution_count": 7,
   "id": "cd2a5847",
   "metadata": {},
   "outputs": [
    {
     "name": "stdout",
     "output_type": "stream",
     "text": [
      "Enter name: Madhur Chauhan\n",
      "Hello Madhur Chauhan, you are selected for this 21 December\n"
     ]
    }
   ],
   "source": [
    "letter = \"Hello NAME, you are selected for this DATE\"\n",
    "name = input(\"Enter name: \")\n",
    "letter = letter.replace('NAME',name)\n",
    "letter = letter.replace('DATE',\"21 December\")\n",
    "print(letter)"
   ]
  },
  {
   "cell_type": "code",
   "execution_count": null,
   "id": "1ce21234",
   "metadata": {},
   "outputs": [],
   "source": []
  }
 ],
 "metadata": {
  "kernelspec": {
   "display_name": "Python 3 (ipykernel)",
   "language": "python",
   "name": "python3"
  },
  "language_info": {
   "codemirror_mode": {
    "name": "ipython",
    "version": 3
   },
   "file_extension": ".py",
   "mimetype": "text/x-python",
   "name": "python",
   "nbconvert_exporter": "python",
   "pygments_lexer": "ipython3",
   "version": "3.9.7"
  }
 },
 "nbformat": 4,
 "nbformat_minor": 5
}
