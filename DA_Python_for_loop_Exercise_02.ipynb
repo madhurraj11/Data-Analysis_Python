{
 "cells": [
  {
   "cell_type": "markdown",
   "id": "e54d7a48",
   "metadata": {},
   "source": [
    "# 1. Print 10 Natural no."
   ]
  },
  {
   "cell_type": "code",
   "execution_count": 2,
   "id": "94f74e38",
   "metadata": {},
   "outputs": [
    {
     "name": "stdout",
     "output_type": "stream",
     "text": [
      "0\n",
      "1\n",
      "2\n",
      "3\n",
      "4\n",
      "5\n",
      "6\n",
      "7\n",
      "8\n",
      "9\n"
     ]
    }
   ],
   "source": [
    "for i in range(10):\n",
    "    print(i)"
   ]
  },
  {
   "cell_type": "markdown",
   "id": "6de99b52",
   "metadata": {},
   "source": [
    "# 2. Print sum of 1 to 10"
   ]
  },
  {
   "cell_type": "code",
   "execution_count": 4,
   "id": "1e86e1d2",
   "metadata": {},
   "outputs": [
    {
     "name": "stdout",
     "output_type": "stream",
     "text": [
      "The Sum of 1 to 10 55\n"
     ]
    }
   ],
   "source": [
    "x = 0\n",
    "for i in range(11):\n",
    "    x+=i\n",
    "print(\"The Sum of 1 to 10\",x)"
   ]
  },
  {
   "cell_type": "markdown",
   "id": "ac91c2fe",
   "metadata": {},
   "source": [
    "# 3. Print table of 2."
   ]
  },
  {
   "cell_type": "code",
   "execution_count": 7,
   "id": "f27a52f5",
   "metadata": {},
   "outputs": [
    {
     "name": "stdout",
     "output_type": "stream",
     "text": [
      "2\n",
      "4\n",
      "6\n",
      "8\n",
      "10\n",
      "12\n",
      "14\n",
      "16\n",
      "18\n",
      "20\n"
     ]
    }
   ],
   "source": [
    "for i in range(1,11):\n",
    "    n = i*2\n",
    "    print(n)"
   ]
  },
  {
   "cell_type": "markdown",
   "id": "5f2f0f3e",
   "metadata": {},
   "source": [
    "# 4. Print 1 to -10."
   ]
  },
  {
   "cell_type": "code",
   "execution_count": 10,
   "id": "163c2735",
   "metadata": {},
   "outputs": [
    {
     "name": "stdout",
     "output_type": "stream",
     "text": [
      "1\n",
      "0\n",
      "-1\n",
      "-2\n",
      "-3\n",
      "-4\n",
      "-5\n",
      "-6\n",
      "-7\n",
      "-8\n",
      "-9\n",
      "-10\n"
     ]
    }
   ],
   "source": [
    "for i in range(1,-11,-1):\n",
    "    print(i)"
   ]
  },
  {
   "cell_type": "markdown",
   "id": "3b636239",
   "metadata": {},
   "source": [
    "# 5. Print -1 to -10."
   ]
  },
  {
   "cell_type": "code",
   "execution_count": 12,
   "id": "ccbec02b",
   "metadata": {},
   "outputs": [
    {
     "name": "stdout",
     "output_type": "stream",
     "text": [
      "-1\n",
      "-2\n",
      "-3\n",
      "-4\n",
      "-5\n",
      "-6\n",
      "-7\n",
      "-8\n",
      "-9\n",
      "-10\n"
     ]
    }
   ],
   "source": [
    "for i in range(-1,-11,-1):\n",
    "    print(i)"
   ]
  },
  {
   "cell_type": "code",
   "execution_count": null,
   "id": "e17a7a7c",
   "metadata": {},
   "outputs": [],
   "source": []
  }
 ],
 "metadata": {
  "kernelspec": {
   "display_name": "Python 3 (ipykernel)",
   "language": "python",
   "name": "python3"
  },
  "language_info": {
   "codemirror_mode": {
    "name": "ipython",
    "version": 3
   },
   "file_extension": ".py",
   "mimetype": "text/x-python",
   "name": "python",
   "nbconvert_exporter": "python",
   "pygments_lexer": "ipython3",
   "version": "3.9.7"
  }
 },
 "nbformat": 4,
 "nbformat_minor": 5
}
